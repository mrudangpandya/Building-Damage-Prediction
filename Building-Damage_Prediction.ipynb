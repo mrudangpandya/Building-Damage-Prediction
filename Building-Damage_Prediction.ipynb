{
 "cells": [
  {
   "cell_type": "markdown",
   "metadata": {},
   "source": [
    "### Predicitng the damage to building using ANN"
   ]
  },
  {
   "cell_type": "markdown",
   "metadata": {},
   "source": [
    "#### Numpy and pandas library are imported"
   ]
  },
  {
   "cell_type": "code",
   "execution_count": 1,
   "metadata": {
    "collapsed": true
   },
   "outputs": [],
   "source": [
    "import numpy as np\n",
    "import pandas as pd"
   ]
  },
  {
   "cell_type": "markdown",
   "metadata": {},
   "source": [
    "#### Data present in train.csv is fetched and stored in dataframe named 'df'\n",
    "\n",
    "##### Here df.head contains top five entries of dataframe same way df.tail can be used for displaying bottom five entries of dataframe"
   ]
  },
  {
   "cell_type": "code",
   "execution_count": 2,
   "metadata": {},
   "outputs": [
    {
     "name": "stderr",
     "output_type": "stream",
     "text": [
      "E:\\Anaconda\\lib\\site-packages\\IPython\\core\\interactiveshell.py:2717: DtypeWarning: Columns (0,1,2) have mixed types. Specify dtype option on import or set low_memory=False.\n",
      "  interactivity=interactivity, compiler=compiler, result=result)\n"
     ]
    },
    {
     "name": "stdout",
     "output_type": "stream",
     "text": [
      "(631734, 14)\n"
     ]
    },
    {
     "data": {
      "text/html": [
       "<div>\n",
       "<style scoped>\n",
       "    .dataframe tbody tr th:only-of-type {\n",
       "        vertical-align: middle;\n",
       "    }\n",
       "\n",
       "    .dataframe tbody tr th {\n",
       "        vertical-align: top;\n",
       "    }\n",
       "\n",
       "    .dataframe thead th {\n",
       "        text-align: right;\n",
       "    }\n",
       "</style>\n",
       "<table border=\"1\" class=\"dataframe\">\n",
       "  <thead>\n",
       "    <tr style=\"text-align: right;\">\n",
       "      <th></th>\n",
       "      <th>area_assesed</th>\n",
       "      <th>building_id</th>\n",
       "      <th>damage_grade</th>\n",
       "      <th>district_id</th>\n",
       "      <th>has_geotechnical_risk</th>\n",
       "      <th>has_geotechnical_risk_fault_crack</th>\n",
       "      <th>has_geotechnical_risk_flood</th>\n",
       "      <th>has_geotechnical_risk_land_settlement</th>\n",
       "      <th>has_geotechnical_risk_landslide</th>\n",
       "      <th>has_geotechnical_risk_liquefaction</th>\n",
       "      <th>has_geotechnical_risk_other</th>\n",
       "      <th>has_geotechnical_risk_rock_fall</th>\n",
       "      <th>has_repair_started</th>\n",
       "      <th>vdcmun_id</th>\n",
       "    </tr>\n",
       "  </thead>\n",
       "  <tbody>\n",
       "    <tr>\n",
       "      <th>0</th>\n",
       "      <td>Both</td>\n",
       "      <td>24385bfd2a2</td>\n",
       "      <td>Grade 4</td>\n",
       "      <td>24.0</td>\n",
       "      <td>0.0</td>\n",
       "      <td>0.0</td>\n",
       "      <td>0.0</td>\n",
       "      <td>0.0</td>\n",
       "      <td>0.0</td>\n",
       "      <td>0.0</td>\n",
       "      <td>0.0</td>\n",
       "      <td>0.0</td>\n",
       "      <td>0.0</td>\n",
       "      <td>2489.0</td>\n",
       "    </tr>\n",
       "    <tr>\n",
       "      <th>1</th>\n",
       "      <td>Both</td>\n",
       "      <td>405d1bbebbf</td>\n",
       "      <td>Grade 2</td>\n",
       "      <td>44.0</td>\n",
       "      <td>0.0</td>\n",
       "      <td>0.0</td>\n",
       "      <td>0.0</td>\n",
       "      <td>0.0</td>\n",
       "      <td>0.0</td>\n",
       "      <td>0.0</td>\n",
       "      <td>0.0</td>\n",
       "      <td>0.0</td>\n",
       "      <td>1.0</td>\n",
       "      <td>4423.0</td>\n",
       "    </tr>\n",
       "    <tr>\n",
       "      <th>2</th>\n",
       "      <td>Both</td>\n",
       "      <td>351d9bc71f6</td>\n",
       "      <td>Grade 1</td>\n",
       "      <td>36.0</td>\n",
       "      <td>0.0</td>\n",
       "      <td>0.0</td>\n",
       "      <td>0.0</td>\n",
       "      <td>0.0</td>\n",
       "      <td>0.0</td>\n",
       "      <td>0.0</td>\n",
       "      <td>0.0</td>\n",
       "      <td>0.0</td>\n",
       "      <td>0.0</td>\n",
       "      <td>3650.0</td>\n",
       "    </tr>\n",
       "    <tr>\n",
       "      <th>3</th>\n",
       "      <td>Building removed</td>\n",
       "      <td>2be3a971166</td>\n",
       "      <td>Grade 5</td>\n",
       "      <td>30.0</td>\n",
       "      <td>0.0</td>\n",
       "      <td>0.0</td>\n",
       "      <td>0.0</td>\n",
       "      <td>0.0</td>\n",
       "      <td>0.0</td>\n",
       "      <td>0.0</td>\n",
       "      <td>0.0</td>\n",
       "      <td>0.0</td>\n",
       "      <td>0.0</td>\n",
       "      <td>3016.0</td>\n",
       "    </tr>\n",
       "    <tr>\n",
       "      <th>4</th>\n",
       "      <td>Both</td>\n",
       "      <td>34c7d073ea6</td>\n",
       "      <td>Grade 3</td>\n",
       "      <td>36.0</td>\n",
       "      <td>0.0</td>\n",
       "      <td>0.0</td>\n",
       "      <td>0.0</td>\n",
       "      <td>0.0</td>\n",
       "      <td>0.0</td>\n",
       "      <td>0.0</td>\n",
       "      <td>0.0</td>\n",
       "      <td>0.0</td>\n",
       "      <td>0.0</td>\n",
       "      <td>3627.0</td>\n",
       "    </tr>\n",
       "  </tbody>\n",
       "</table>\n",
       "</div>"
      ],
      "text/plain": [
       "       area_assesed  building_id damage_grade  district_id  \\\n",
       "0              Both  24385bfd2a2      Grade 4         24.0   \n",
       "1              Both  405d1bbebbf      Grade 2         44.0   \n",
       "2              Both  351d9bc71f6      Grade 1         36.0   \n",
       "3  Building removed  2be3a971166      Grade 5         30.0   \n",
       "4              Both  34c7d073ea6      Grade 3         36.0   \n",
       "\n",
       "   has_geotechnical_risk  has_geotechnical_risk_fault_crack  \\\n",
       "0                    0.0                                0.0   \n",
       "1                    0.0                                0.0   \n",
       "2                    0.0                                0.0   \n",
       "3                    0.0                                0.0   \n",
       "4                    0.0                                0.0   \n",
       "\n",
       "   has_geotechnical_risk_flood  has_geotechnical_risk_land_settlement  \\\n",
       "0                          0.0                                    0.0   \n",
       "1                          0.0                                    0.0   \n",
       "2                          0.0                                    0.0   \n",
       "3                          0.0                                    0.0   \n",
       "4                          0.0                                    0.0   \n",
       "\n",
       "   has_geotechnical_risk_landslide  has_geotechnical_risk_liquefaction  \\\n",
       "0                              0.0                                 0.0   \n",
       "1                              0.0                                 0.0   \n",
       "2                              0.0                                 0.0   \n",
       "3                              0.0                                 0.0   \n",
       "4                              0.0                                 0.0   \n",
       "\n",
       "   has_geotechnical_risk_other  has_geotechnical_risk_rock_fall  \\\n",
       "0                          0.0                              0.0   \n",
       "1                          0.0                              0.0   \n",
       "2                          0.0                              0.0   \n",
       "3                          0.0                              0.0   \n",
       "4                          0.0                              0.0   \n",
       "\n",
       "   has_repair_started  vdcmun_id  \n",
       "0                 0.0     2489.0  \n",
       "1                 1.0     4423.0  \n",
       "2                 0.0     3650.0  \n",
       "3                 0.0     3016.0  \n",
       "4                 0.0     3627.0  "
      ]
     },
     "execution_count": 2,
     "metadata": {},
     "output_type": "execute_result"
    }
   ],
   "source": [
    "df = pd.read_csv('C:\\\\Users\\\\admin\\\\Desktop\\\\workshop\\\\a490e594-6-Dataset\\\\Dataset\\\\train.csv')\n",
    "print(df.shape)\n",
    "df.head()"
   ]
  },
  {
   "cell_type": "markdown",
   "metadata": {},
   "source": [
    "#### The below code converts the multi-variate datatype into standardized formand handles missing values. In the below code the missing values in column_has_repair_started, Column_has_geotechnical_risk is handled  and damage_grade is mapped to standadrized  format.\n",
    "    "
   ]
  },
  {
   "cell_type": "code",
   "execution_count": 3,
   "metadata": {},
   "outputs": [
    {
     "name": "stdout",
     "output_type": "stream",
     "text": [
      "damage_grade:\n",
      "    Grade 1  Grade 2  Grade 3  Grade 4  Grade 5\n",
      "0        0        0        0        1        0\n",
      "1        0        1        0        0        0\n",
      "2        1        0        0        0        0\n",
      "3        0        0        0        0        1\n",
      "4        0        0        1        0        0\n",
      "5        0        0        0        0        1\n",
      "6        0        1        0        0        0\n",
      "7        0        0        0        0        1\n",
      "8        1        0        0        0        0\n",
      "9        0        0        1        0        0\n",
      "Column_has_repair_started:\n",
      " [0, 1, 0, 0, 0, 0, 0, 0, 0, 1]\n",
      "Column_has_geotechnical_risk\n",
      " [0, 0, 0, 0, 0, 0, 1, 0, 0, 0]\n",
      "has_geotechnical_risk:\n",
      "    0.0  1.0\n",
      "0    1    0\n",
      "1    1    0\n",
      "2    1    0\n",
      "3    1    0\n",
      "4    1    0\n",
      "5    1    0\n",
      "6    0    1\n",
      "7    1    0\n",
      "8    1    0\n",
      "9    1    0\n",
      "district_id\n",
      "    7.0   9.0   10.0  11.0  12.0  13.0  20.0  21.0  22.0  23.0  ...   38.0  \\\n",
      "0     0     0     0     0     0     0     0     0     0     0  ...      0   \n",
      "1     0     0     0     0     0     0     0     0     0     0  ...      0   \n",
      "2     0     0     0     0     0     0     0     0     0     0  ...      0   \n",
      "3     0     0     0     0     0     0     0     0     0     0  ...      0   \n",
      "4     0     0     0     0     0     0     0     0     0     0  ...      0   \n",
      "5     0     0     0     0     0     0     0     1     0     0  ...      0   \n",
      "6     0     0     0     0     0     0     0     0     0     0  ...      0   \n",
      "7     0     0     0     0     0     0     0     0     0     0  ...      0   \n",
      "8     0     0     0     0     0     0     0     1     0     0  ...      0   \n",
      "9     0     0     0     0     0     0     0     0     0     0  ...      0   \n",
      "\n",
      "   39.0  40.0  43.0  44.0  45.0  46.0  47.0  48.0  51.0  \n",
      "0     0     0     0     0     0     0     0     0     0  \n",
      "1     0     0     0     1     0     0     0     0     0  \n",
      "2     0     0     0     0     0     0     0     0     0  \n",
      "3     0     0     0     0     0     0     0     0     0  \n",
      "4     0     0     0     0     0     0     0     0     0  \n",
      "5     0     0     0     0     0     0     0     0     0  \n",
      "6     0     0     0     0     0     0     0     0     0  \n",
      "7     0     0     0     0     0     0     0     0     0  \n",
      "8     0     0     0     0     0     0     0     0     0  \n",
      "9     1     0     0     0     0     0     0     0     0  \n",
      "\n",
      "[10 rows x 31 columns]\n"
     ]
    }
   ],
   "source": [
    "columns = ['damage_grade']\n",
    "y = df.damage_grade\n",
    "y = pd.get_dummies(y, dummy_na=False)\n",
    "print(\"damage_grade:\\n\",y[:10])\n",
    "columns = ['has_geotechnical_risk_fault_crack',\n",
    "          'has_geotechnical_risk_flood',\n",
    "          'has_geotechnical_risk_land_settlement',\n",
    "          'has_geotechnical_risk_landslide',\n",
    "          'has_geotechnical_risk_liquefaction',\n",
    "          'has_geotechnical_risk_other',\n",
    "          'has_geotechnical_risk_rock_fall'\n",
    "          ]\n",
    "x = pd.DataFrame(df, columns=columns)\n",
    "\n",
    "column_has_repair_started = []\n",
    "for i in df.has_repair_started:\n",
    "    if i == 0.0 or i == 1.0:\n",
    "        column_has_repair_started.append(int(i))\n",
    "    else:\n",
    "        column_has_repair_started.append(0)\n",
    "        \n",
    "print(\"Column_has_repair_started:\\n\",column_has_repair_started[:10])\n",
    "\n",
    "has_repair_started = pd.DataFrame(column_has_repair_started)\n",
    "x = pd.concat([x, has_repair_started],axis=1) \n",
    "x = x.rename(columns={0: 'has_repair_started'})\n",
    "\n",
    "column_has_geotechnical_risk = []\n",
    "for i in df.has_geotechnical_risk:\n",
    "    if i == 0.0 or i == 1.0:\n",
    "        column_has_geotechnical_risk.append(int(i))\n",
    "    else:\n",
    "        column_has_geotechnical_risk.append(0)\n",
    "print(\"Column_has_geotechnical_risk\\n\",column_has_geotechnical_risk[:10])\n",
    "has_geotechnical_risk = pd.DataFrame(column_has_geotechnical_risk)\n",
    "x = pd.concat([x, has_geotechnical_risk],axis=1) \n",
    "x = x.rename(columns={0: 'has_geotechnical_risk'})\n",
    "\n",
    "has_geotechnical_risk = df.has_geotechnical_risk\n",
    "has_geotechnical_risk = pd.get_dummies(has_geotechnical_risk, dummy_na=False)\n",
    "print(\"has_geotechnical_risk:\\n\",has_geotechnical_risk[:10])\n",
    "x = pd.concat([has_geotechnical_risk, x],axis=1)\n",
    "\n",
    "district_id = df.district_id\n",
    "district_id = pd.get_dummies(district_id, dummy_na=False)\n",
    "print(\"district_id\\n\",district_id[:10])\n",
    "x = pd.concat([district_id, x],axis=1)"
   ]
  },
  {
   "cell_type": "markdown",
   "metadata": {},
   "source": [
    "#### df.dtypes diaplays datatypes of all the columns(features and classlabels). "
   ]
  },
  {
   "cell_type": "code",
   "execution_count": 4,
   "metadata": {
    "scrolled": true
   },
   "outputs": [
    {
     "name": "stdout",
     "output_type": "stream",
     "text": [
      "area_assesed                              object\n",
      "building_id                               object\n",
      "damage_grade                              object\n",
      "district_id                              float64\n",
      "has_geotechnical_risk                    float64\n",
      "has_geotechnical_risk_fault_crack        float64\n",
      "has_geotechnical_risk_flood              float64\n",
      "has_geotechnical_risk_land_settlement    float64\n",
      "has_geotechnical_risk_landslide          float64\n",
      "has_geotechnical_risk_liquefaction       float64\n",
      "has_geotechnical_risk_other              float64\n",
      "has_geotechnical_risk_rock_fall          float64\n",
      "has_repair_started                       float64\n",
      "vdcmun_id                                float64\n",
      "dtype: object\n"
     ]
    }
   ],
   "source": [
    "print(df.dtypes)"
   ]
  },
  {
   "cell_type": "markdown",
   "metadata": {},
   "source": [
    "##### Shape Function determine (rows,columns)"
   ]
  },
  {
   "cell_type": "code",
   "execution_count": 5,
   "metadata": {
    "scrolled": true
   },
   "outputs": [
    {
     "name": "stdout",
     "output_type": "stream",
     "text": [
      "(631734, 42)\n"
     ]
    }
   ],
   "source": [
    "print(x.shape)"
   ]
  },
  {
   "cell_type": "markdown",
   "metadata": {},
   "source": [
    "### Creating Artificial Neural Network"
   ]
  },
  {
   "cell_type": "code",
   "execution_count": 6,
   "metadata": {},
   "outputs": [
    {
     "name": "stderr",
     "output_type": "stream",
     "text": [
      "Using TensorFlow backend.\n"
     ]
    }
   ],
   "source": [
    "from keras.models import Sequential\n",
    "from keras.layers import Dense\n",
    "from keras.layers import Dropout\n",
    "from keras.layers import LeakyReLU"
   ]
  },
  {
   "cell_type": "markdown",
   "metadata": {},
   "source": [
    "#### Model is created with 1-input-layer, 4-hidden-layers and 1-output-layer"
   ]
  },
  {
   "cell_type": "code",
   "execution_count": 17,
   "metadata": {},
   "outputs": [
    {
     "name": "stdout",
     "output_type": "stream",
     "text": [
      "_________________________________________________________________\n",
      "Layer (type)                 Output Shape              Param #   \n",
      "=================================================================\n",
      "dense_6 (Dense)              (None, 44)                1892      \n",
      "_________________________________________________________________\n",
      "dense_7 (Dense)              (None, 29)                1305      \n",
      "_________________________________________________________________\n",
      "dropout_3 (Dropout)          (None, 29)                0         \n",
      "_________________________________________________________________\n",
      "dense_8 (Dense)              (None, 17)                510       \n",
      "_________________________________________________________________\n",
      "dense_9 (Dense)              (None, 10)                180       \n",
      "_________________________________________________________________\n",
      "dropout_4 (Dropout)          (None, 10)                0         \n",
      "_________________________________________________________________\n",
      "dense_10 (Dense)             (None, 5)                 55        \n",
      "=================================================================\n",
      "Total params: 3,942\n",
      "Trainable params: 3,942\n",
      "Non-trainable params: 0\n",
      "_________________________________________________________________\n",
      "None\n"
     ]
    }
   ],
   "source": [
    "model = Sequential()\n",
    "model.add(Dense(44, input_dim=42, activation='linear'))\n",
    "model.add(Dense(29, activation='linear'))\n",
    "model.add(Dropout(0.2))\n",
    "model.add(Dense(17, activation='relu'))\n",
    "model.add(Dense(10, activation='relu'))\n",
    "model.add(Dropout(0.1))\n",
    "model.add(Dense(5, activation='softmax'))\n",
    "model.compile(loss='categorical_crossentropy', optimizer='adam', metrics=['accuracy'])\n",
    "print(model.summary())"
   ]
  },
  {
   "cell_type": "markdown",
   "metadata": {},
   "source": [
    "### Splitting Training and Testing Data "
   ]
  },
  {
   "cell_type": "code",
   "execution_count": 20,
   "metadata": {
    "collapsed": true
   },
   "outputs": [],
   "source": [
    "train_data = x[:500000]\n",
    "train_labels = y[:500000]\n",
    "test_data = x[500000:]\n",
    "test_labels = y[500000:]"
   ]
  },
  {
   "cell_type": "code",
   "execution_count": 21,
   "metadata": {},
   "outputs": [
    {
     "name": "stdout",
     "output_type": "stream",
     "text": [
      "Train on 500000 samples, validate on 131734 samples\n",
      "Epoch 1/100\n",
      "500000/500000 [==============================] - 9s 17us/step - loss: 1.5665 - acc: 0.2460 - val_loss: nan - val_acc: 0.8665\n",
      "Epoch 2/100\n",
      "500000/500000 [==============================] - 5s 11us/step - loss: 1.4323 - acc: 0.3596 - val_loss: nan - val_acc: 0.8791\n",
      "Epoch 3/100\n",
      "500000/500000 [==============================] - 4s 8us/step - loss: 1.3736 - acc: 0.4008 - val_loss: nan - val_acc: 0.8827\n",
      "Epoch 4/100\n",
      "500000/500000 [==============================] - 4s 9us/step - loss: 1.3600 - acc: 0.4118 - val_loss: nan - val_acc: 0.8824\n",
      "Epoch 5/100\n",
      "500000/500000 [==============================] - 4s 8us/step - loss: 1.3525 - acc: 0.4145 - val_loss: nan - val_acc: 0.8842\n",
      "Epoch 6/100\n",
      "500000/500000 [==============================] - 4s 8us/step - loss: 1.3487 - acc: 0.4181 - val_loss: nan - val_acc: 0.8840\n",
      "Epoch 7/100\n",
      "500000/500000 [==============================] - 4s 8us/step - loss: 1.3454 - acc: 0.4200 - val_loss: nan - val_acc: 0.8841\n",
      "Epoch 8/100\n",
      "500000/500000 [==============================] - 5s 10us/step - loss: 1.3435 - acc: 0.4214 - val_loss: nan - val_acc: 0.8840\n",
      "Epoch 9/100\n",
      "500000/500000 [==============================] - 5s 9us/step - loss: 1.3425 - acc: 0.4226 - val_loss: nan - val_acc: 0.8845\n",
      "Epoch 10/100\n",
      "500000/500000 [==============================] - 4s 8us/step - loss: 1.3413 - acc: 0.4234 - val_loss: nan - val_acc: 0.8843\n",
      "Epoch 11/100\n",
      "500000/500000 [==============================] - 4s 8us/step - loss: 1.3400 - acc: 0.4234 - val_loss: nan - val_acc: 0.8843\n",
      "Epoch 12/100\n",
      "500000/500000 [==============================] - 5s 9us/step - loss: 1.3393 - acc: 0.4246 - val_loss: nan - val_acc: 0.8844\n",
      "Epoch 13/100\n",
      "500000/500000 [==============================] - 4s 9us/step - loss: 1.3386 - acc: 0.4241 - val_loss: nan - val_acc: 0.8844\n",
      "Epoch 14/100\n",
      "500000/500000 [==============================] - 4s 9us/step - loss: 1.3379 - acc: 0.4247 - val_loss: nan - val_acc: 0.8844\n",
      "Epoch 15/100\n",
      "500000/500000 [==============================] - 5s 10us/step - loss: 1.3376 - acc: 0.4244 - val_loss: nan - val_acc: 0.8843\n",
      "Epoch 16/100\n",
      "500000/500000 [==============================] - 4s 9us/step - loss: 1.3374 - acc: 0.4249 - val_loss: nan - val_acc: 0.8841\n",
      "Epoch 17/100\n",
      "500000/500000 [==============================] - 4s 8us/step - loss: 1.3364 - acc: 0.4251 - val_loss: nan - val_acc: 0.8842\n",
      "Epoch 18/100\n",
      "500000/500000 [==============================] - 4s 8us/step - loss: 1.3363 - acc: 0.4255 - val_loss: nan - val_acc: 0.8841\n",
      "Epoch 19/100\n",
      "500000/500000 [==============================] - 4s 9us/step - loss: 1.3361 - acc: 0.4252 - val_loss: nan - val_acc: 0.8843\n",
      "Epoch 20/100\n",
      "500000/500000 [==============================] - 5s 9us/step - loss: 1.3358 - acc: 0.4246 - val_loss: nan - val_acc: 0.8846\n",
      "Epoch 21/100\n",
      "500000/500000 [==============================] - 4s 8us/step - loss: 1.3353 - acc: 0.4253 - val_loss: nan - val_acc: 0.8845\n",
      "Epoch 22/100\n",
      "500000/500000 [==============================] - 4s 8us/step - loss: 1.3351 - acc: 0.4253 - val_loss: nan - val_acc: 0.8845\n",
      "Epoch 23/100\n",
      "500000/500000 [==============================] - 4s 9us/step - loss: 1.3349 - acc: 0.4257 - val_loss: nan - val_acc: 0.8844\n",
      "Epoch 24/100\n",
      "500000/500000 [==============================] - 4s 9us/step - loss: 1.3348 - acc: 0.4253 - val_loss: nan - val_acc: 0.8842\n",
      "Epoch 25/100\n",
      "500000/500000 [==============================] - 4s 8us/step - loss: 1.3347 - acc: 0.4261 - val_loss: nan - val_acc: 0.8841\n",
      "Epoch 26/100\n",
      "500000/500000 [==============================] - 4s 8us/step - loss: 1.3346 - acc: 0.4251 - val_loss: nan - val_acc: 0.8844\n",
      "Epoch 27/100\n",
      "500000/500000 [==============================] - 5s 10us/step - loss: 1.3343 - acc: 0.4250 - val_loss: nan - val_acc: 0.8842\n",
      "Epoch 28/100\n",
      "500000/500000 [==============================] - 4s 9us/step - loss: 1.3342 - acc: 0.4259 - val_loss: nan - val_acc: 0.8842\n",
      "Epoch 29/100\n",
      "500000/500000 [==============================] - 5s 10us/step - loss: 1.3339 - acc: 0.4255 - val_loss: nan - val_acc: 0.8842\n",
      "Epoch 30/100\n",
      "500000/500000 [==============================] - 4s 9us/step - loss: 1.3338 - acc: 0.4249 - val_loss: nan - val_acc: 0.8842\n",
      "Epoch 31/100\n",
      "500000/500000 [==============================] - 5s 10us/step - loss: 1.3337 - acc: 0.4258 - val_loss: nan - val_acc: 0.8845\n",
      "Epoch 32/100\n",
      "500000/500000 [==============================] - 4s 9us/step - loss: 1.3334 - acc: 0.4259 - val_loss: nan - val_acc: 0.8843\n",
      "Epoch 33/100\n",
      "500000/500000 [==============================] - 4s 9us/step - loss: 1.3334 - acc: 0.4254 - val_loss: nan - val_acc: 0.8843\n",
      "Epoch 34/100\n",
      "500000/500000 [==============================] - 5s 10us/step - loss: 1.3335 - acc: 0.4254 - val_loss: nan - val_acc: 0.8843\n",
      "Epoch 35/100\n",
      "500000/500000 [==============================] - 5s 9us/step - loss: 1.3339 - acc: 0.4253 - val_loss: nan - val_acc: 0.8843\n",
      "Epoch 36/100\n",
      "500000/500000 [==============================] - 4s 9us/step - loss: 1.3332 - acc: 0.4252 - val_loss: nan - val_acc: 0.8842\n",
      "Epoch 37/100\n",
      "500000/500000 [==============================] - 4s 9us/step - loss: 1.3332 - acc: 0.4254 - val_loss: nan - val_acc: 0.8844\n",
      "Epoch 38/100\n",
      "500000/500000 [==============================] - 5s 9us/step - loss: 1.3332 - acc: 0.4258 - val_loss: nan - val_acc: 0.8843\n",
      "Epoch 39/100\n",
      "500000/500000 [==============================] - 4s 8us/step - loss: 1.3329 - acc: 0.4258 - val_loss: nan - val_acc: 0.8843\n",
      "Epoch 40/100\n",
      "500000/500000 [==============================] - 4s 8us/step - loss: 1.3328 - acc: 0.4259 - val_loss: nan - val_acc: 0.8844\n",
      "Epoch 41/100\n",
      "500000/500000 [==============================] - 5s 10us/step - loss: 1.3331 - acc: 0.4257 - val_loss: nan - val_acc: 0.8844\n",
      "Epoch 42/100\n",
      "500000/500000 [==============================] - 4s 9us/step - loss: 1.3327 - acc: 0.4258 - val_loss: nan - val_acc: 0.8842\n",
      "Epoch 43/100\n",
      "500000/500000 [==============================] - 4s 8us/step - loss: 1.3328 - acc: 0.4259 - val_loss: nan - val_acc: 0.8843\n",
      "Epoch 44/100\n",
      "500000/500000 [==============================] - 4s 9us/step - loss: 1.3324 - acc: 0.4255 - val_loss: nan - val_acc: 0.8843\n",
      "Epoch 45/100\n",
      "500000/500000 [==============================] - 5s 10us/step - loss: 1.3330 - acc: 0.4258 - val_loss: nan - val_acc: 0.8843\n",
      "Epoch 46/100\n",
      "500000/500000 [==============================] - 4s 8us/step - loss: 1.3325 - acc: 0.4261 - val_loss: nan - val_acc: 0.8843\n",
      "Epoch 47/100\n",
      "500000/500000 [==============================] - 4s 8us/step - loss: 1.3324 - acc: 0.4255 - val_loss: nan - val_acc: 0.8843\n",
      "Epoch 48/100\n",
      "500000/500000 [==============================] - 5s 10us/step - loss: 1.3324 - acc: 0.4258 - val_loss: nan - val_acc: 0.8843\n",
      "Epoch 49/100\n",
      "500000/500000 [==============================] - 5s 10us/step - loss: 1.3323 - acc: 0.4262 - val_loss: nan - val_acc: 0.8843\n",
      "Epoch 50/100\n",
      "500000/500000 [==============================] - 4s 9us/step - loss: 1.3329 - acc: 0.4253 - val_loss: nan - val_acc: 0.8843\n",
      "Epoch 51/100\n",
      "500000/500000 [==============================] - 4s 9us/step - loss: 1.3327 - acc: 0.4254 - val_loss: nan - val_acc: 0.8843\n",
      "Epoch 52/100\n",
      "500000/500000 [==============================] - 5s 9us/step - loss: 1.3320 - acc: 0.4262 - val_loss: nan - val_acc: 0.8843\n",
      "Epoch 53/100\n",
      "500000/500000 [==============================] - 4s 9us/step - loss: 1.3323 - acc: 0.4254 - val_loss: nan - val_acc: 0.8843\n",
      "Epoch 54/100\n",
      "500000/500000 [==============================] - 4s 8us/step - loss: 1.3321 - acc: 0.4259 - val_loss: nan - val_acc: 0.8843\n",
      "Epoch 55/100\n",
      "500000/500000 [==============================] - 4s 9us/step - loss: 1.3327 - acc: 0.4254 - val_loss: nan - val_acc: 0.8842\n",
      "Epoch 56/100\n",
      "500000/500000 [==============================] - 4s 9us/step - loss: 1.3323 - acc: 0.4258 - val_loss: nan - val_acc: 0.8844\n",
      "Epoch 57/100\n",
      "500000/500000 [==============================] - 4s 8us/step - loss: 1.3321 - acc: 0.4261 - val_loss: nan - val_acc: 0.8842\n",
      "Epoch 58/100\n",
      "500000/500000 [==============================] - 4s 8us/step - loss: 1.3322 - acc: 0.4263 - val_loss: nan - val_acc: 0.8844\n",
      "Epoch 59/100\n",
      "500000/500000 [==============================] - 4s 8us/step - loss: 1.3323 - acc: 0.4261 - val_loss: nan - val_acc: 0.8843\n",
      "Epoch 60/100\n",
      "500000/500000 [==============================] - 4s 8us/step - loss: 1.3321 - acc: 0.4267 - val_loss: nan - val_acc: 0.8843\n",
      "Epoch 61/100\n",
      "500000/500000 [==============================] - 4s 8us/step - loss: 1.3318 - acc: 0.4266 - val_loss: nan - val_acc: 0.8844\n",
      "Epoch 62/100\n",
      "500000/500000 [==============================] - 4s 8us/step - loss: 1.3321 - acc: 0.4254 - val_loss: nan - val_acc: 0.8843\n",
      "Epoch 63/100\n",
      "500000/500000 [==============================] - 4s 8us/step - loss: 1.3323 - acc: 0.4264 - val_loss: nan - val_acc: 0.8844\n",
      "Epoch 64/100\n",
      "500000/500000 [==============================] - 4s 9us/step - loss: 1.3318 - acc: 0.4255 - val_loss: nan - val_acc: 0.8843\n",
      "Epoch 65/100\n",
      "500000/500000 [==============================] - 4s 8us/step - loss: 1.3318 - acc: 0.4260 - val_loss: nan - val_acc: 0.8844\n",
      "Epoch 66/100\n",
      "500000/500000 [==============================] - 4s 8us/step - loss: 1.3321 - acc: 0.4259 - val_loss: nan - val_acc: 0.8844\n",
      "Epoch 67/100\n",
      "500000/500000 [==============================] - 4s 9us/step - loss: 1.3318 - acc: 0.4264 - val_loss: nan - val_acc: 0.8845\n",
      "Epoch 68/100\n",
      "500000/500000 [==============================] - 4s 9us/step - loss: 1.3320 - acc: 0.4263 - val_loss: nan - val_acc: 0.8846\n",
      "Epoch 69/100\n",
      "500000/500000 [==============================] - 4s 8us/step - loss: 1.3317 - acc: 0.4269 - val_loss: nan - val_acc: 0.8844\n",
      "Epoch 70/100\n",
      "500000/500000 [==============================] - 4s 8us/step - loss: 1.3317 - acc: 0.4263 - val_loss: nan - val_acc: 0.8844\n",
      "Epoch 71/100\n",
      "500000/500000 [==============================] - 5s 9us/step - loss: 1.3317 - acc: 0.4258 - val_loss: nan - val_acc: 0.8844\n",
      "Epoch 72/100\n",
      "500000/500000 [==============================] - 4s 8us/step - loss: 1.3318 - acc: 0.4260 - val_loss: nan - val_acc: 0.8844\n",
      "Epoch 73/100\n",
      "500000/500000 [==============================] - 4s 8us/step - loss: 1.3319 - acc: 0.4261 - val_loss: nan - val_acc: 0.8844\n",
      "Epoch 74/100\n",
      "500000/500000 [==============================] - 4s 9us/step - loss: 1.3320 - acc: 0.4256 - val_loss: nan - val_acc: 0.8844\n",
      "Epoch 75/100\n",
      "500000/500000 [==============================] - 5s 9us/step - loss: 1.3316 - acc: 0.4261 - val_loss: nan - val_acc: 0.8843\n",
      "Epoch 76/100\n",
      "500000/500000 [==============================] - 4s 8us/step - loss: 1.3313 - acc: 0.4263 - val_loss: nan - val_acc: 0.8844\n",
      "Epoch 77/100\n",
      "500000/500000 [==============================] - 4s 8us/step - loss: 1.3317 - acc: 0.4256 - val_loss: nan - val_acc: 0.8844\n",
      "Epoch 78/100\n",
      "500000/500000 [==============================] - 5s 9us/step - loss: 1.3319 - acc: 0.4257 - val_loss: nan - val_acc: 0.8844\n",
      "Epoch 79/100\n",
      "500000/500000 [==============================] - 4s 9us/step - loss: 1.3317 - acc: 0.4259 - val_loss: nan - val_acc: 0.8844\n",
      "Epoch 80/100\n",
      "500000/500000 [==============================] - 4s 8us/step - loss: 1.3315 - acc: 0.4262 - val_loss: nan - val_acc: 0.8844\n",
      "Epoch 81/100\n",
      "500000/500000 [==============================] - 4s 8us/step - loss: 1.3318 - acc: 0.4259 - val_loss: nan - val_acc: 0.8844\n",
      "Epoch 82/100\n",
      "500000/500000 [==============================] - 5s 9us/step - loss: 1.3315 - acc: 0.4256 - val_loss: nan - val_acc: 0.8844\n",
      "Epoch 83/100\n",
      "500000/500000 [==============================] - 4s 9us/step - loss: 1.3314 - acc: 0.4259 - val_loss: nan - val_acc: 0.8844\n",
      "Epoch 84/100\n",
      "500000/500000 [==============================] - 4s 8us/step - loss: 1.3313 - acc: 0.4266 - val_loss: nan - val_acc: 0.8844\n",
      "Epoch 85/100\n",
      "500000/500000 [==============================] - 4s 9us/step - loss: 1.3315 - acc: 0.4263 - val_loss: nan - val_acc: 0.8844\n",
      "Epoch 86/100\n",
      "500000/500000 [==============================] - 5s 9us/step - loss: 1.3313 - acc: 0.4262 - val_loss: nan - val_acc: 0.8845\n",
      "Epoch 87/100\n",
      "500000/500000 [==============================] - 4s 8us/step - loss: 1.3315 - acc: 0.4259 - val_loss: nan - val_acc: 0.8844\n",
      "Epoch 88/100\n",
      "500000/500000 [==============================] - 4s 8us/step - loss: 1.3314 - acc: 0.4271 - val_loss: nan - val_acc: 0.8844\n",
      "Epoch 89/100\n",
      "500000/500000 [==============================] - 5s 9us/step - loss: 1.3315 - acc: 0.4262 - val_loss: nan - val_acc: 0.8845\n",
      "Epoch 90/100\n",
      "500000/500000 [==============================] - 5s 10us/step - loss: 1.3312 - acc: 0.4267 - val_loss: nan - val_acc: 0.8844\n",
      "Epoch 91/100\n",
      "500000/500000 [==============================] - 4s 8us/step - loss: 1.3309 - acc: 0.4265 - val_loss: nan - val_acc: 0.8846\n",
      "Epoch 92/100\n",
      "500000/500000 [==============================] - 4s 8us/step - loss: 1.3313 - acc: 0.4263 - val_loss: nan - val_acc: 0.8844\n",
      "Epoch 93/100\n",
      "500000/500000 [==============================] - 5s 9us/step - loss: 1.3314 - acc: 0.4260 - val_loss: nan - val_acc: 0.8844\n",
      "Epoch 94/100\n",
      "500000/500000 [==============================] - 4s 9us/step - loss: 1.3310 - acc: 0.4261 - val_loss: nan - val_acc: 0.8845\n",
      "Epoch 95/100\n",
      "500000/500000 [==============================] - 4s 8us/step - loss: 1.3312 - acc: 0.4263 - val_loss: nan - val_acc: 0.8845\n",
      "Epoch 96/100\n",
      "500000/500000 [==============================] - 4s 8us/step - loss: 1.3312 - acc: 0.4263 - val_loss: nan - val_acc: 0.8845\n",
      "Epoch 97/100\n",
      "500000/500000 [==============================] - 5s 10us/step - loss: 1.3313 - acc: 0.4263 - val_loss: nan - val_acc: 0.8845\n",
      "Epoch 98/100\n",
      "500000/500000 [==============================] - 4s 9us/step - loss: 1.3314 - acc: 0.4259 - val_loss: nan - val_acc: 0.8844\n",
      "Epoch 99/100\n",
      "500000/500000 [==============================] - 4s 8us/step - loss: 1.3312 - acc: 0.4263 - val_loss: nan - val_acc: 0.8845\n",
      "Epoch 100/100\n",
      "500000/500000 [==============================] - 4s 9us/step - loss: 1.3310 - acc: 0.4259 - val_loss: nan - val_acc: 0.8845\n",
      "Accuracy: 88.45%\n"
     ]
    }
   ],
   "source": [
    "model.fit(train_data, train_labels, validation_data=(test_data, test_labels), epochs=100, batch_size=10000)\n",
    "scores = model.evaluate(test_data, test_labels, verbose=0)\n",
    "print(\"Accuracy: %.2f%%\" % (scores[1]*100))"
   ]
  },
  {
   "cell_type": "markdown",
   "metadata": {},
   "source": [
    "### Now Predicting on unknown data"
   ]
  },
  {
   "cell_type": "code",
   "execution_count": 24,
   "metadata": {},
   "outputs": [
    {
     "name": "stdout",
     "output_type": "stream",
     "text": [
      "(421175, 13)\n"
     ]
    }
   ],
   "source": [
    "df = pd.read_csv('C:\\\\Users\\\\admin\\\\Desktop\\\\workshop\\\\a490e594-6-Dataset\\\\Dataset\\\\test.csv')\n",
    "print(df.shape)\n",
    "columns = ['has_geotechnical_risk_fault_crack',\n",
    "          'has_geotechnical_risk_flood',\n",
    "          'has_geotechnical_risk_land_settlement',\n",
    "          'has_geotechnical_risk_landslide',\n",
    "          'has_geotechnical_risk_liquefaction',\n",
    "          'has_geotechnical_risk_other',\n",
    "          'has_geotechnical_risk_rock_fall'\n",
    "          ]\n",
    "xnew = pd.DataFrame(df, columns=columns)\n",
    "\n",
    "column_has_repair_started = []\n",
    "for i in df.has_repair_started:\n",
    "    if i == 0.0 or i == 1.0:\n",
    "        column_has_repair_started.append(int(i))\n",
    "    else:\n",
    "        column_has_repair_started.append(0)\n",
    "has_repair_started = pd.DataFrame(column_has_repair_started)\n",
    "xnew = pd.concat([xnew, has_repair_started],axis=1) \n",
    "xnew = xnew.rename(columns={0: 'has_repair_started'})\n",
    "\n",
    "column_has_geotechnical_risk = []\n",
    "for i in df.has_geotechnical_risk:\n",
    "    if i == 0.0 or i == 1.0:\n",
    "        column_has_geotechnical_risk.append(int(i))\n",
    "    else:\n",
    "        column_has_geotechnical_risk.append(0)\n",
    "has_geotechnical_risk = pd.DataFrame(column_has_geotechnical_risk)\n",
    "xnew = pd.concat([has_geotechnical_risk, xnew],axis=1) \n",
    "xnew = xnew.rename(columns={0: 'has_geotechnical_risk'})\n",
    "\n",
    "has_geotechnical_risk = df.has_geotechnical_risk\n",
    "has_geotechnical_risk = pd.get_dummies(has_geotechnical_risk, dummy_na=False)\n",
    "xnew = pd.concat([has_geotechnical_risk, xnew],axis=1)\n",
    "\n",
    "district_id = df.district_id\n",
    "district_id = pd.get_dummies(district_id, dummy_na=False)\n",
    "xnew = pd.concat([district_id, xnew],axis=1)"
   ]
  },
  {
   "cell_type": "code",
   "execution_count": 25,
   "metadata": {
    "collapsed": true
   },
   "outputs": [],
   "source": [
    "ynew = model.predict(xnew)"
   ]
  },
  {
   "cell_type": "code",
   "execution_count": 26,
   "metadata": {
    "collapsed": true
   },
   "outputs": [],
   "source": [
    "grade = []\n",
    "for i in ynew:\n",
    "    ind = np.unravel_index(np.argmax(i, axis=None), i.shape)\n",
    "    if ind == (0, ):\n",
    "        grade.append('Grade 1')\n",
    "    elif ind == (1, ):\n",
    "        grade.append('Grade 2')\n",
    "    elif ind == (2, ):\n",
    "        grade.append('Grade 3')\n",
    "    elif ind == (3, ):\n",
    "        grade.append('Grade 4')\n",
    "    elif ind == (4, ):\n",
    "        grade.append('Grade 5')"
   ]
  },
  {
   "cell_type": "code",
   "execution_count": 27,
   "metadata": {},
   "outputs": [
    {
     "name": "stdout",
     "output_type": "stream",
     "text": [
      "421175\n"
     ]
    }
   ],
   "source": [
    "print(len(grade))"
   ]
  },
  {
   "cell_type": "code",
   "execution_count": 28,
   "metadata": {
    "collapsed": true
   },
   "outputs": [],
   "source": [
    "building_id = df.building_id\n",
    "grade_id = pd.DataFrame(grade)\n",
    "result = pd.concat([building_id, grade_id],axis=1)"
   ]
  },
  {
   "cell_type": "code",
   "execution_count": 29,
   "metadata": {},
   "outputs": [
    {
     "name": "stdout",
     "output_type": "stream",
     "text": [
      "   building_id damage_grade\n",
      "0   a3380c4f75      Grade 5\n",
      "1   a338a4e653      Grade 5\n",
      "2   a338a4e6b7      Grade 5\n",
      "3   a33a6eaa3a      Grade 5\n",
      "4   a33b073ff6      Grade 5\n",
      "5  6604e4896c6      Grade 5\n",
      "6   a33b07430f      Grade 5\n",
      "7   a33c386cf3      Grade 5\n",
      "8   a33c386ee7      Grade 5\n",
      "9   a33c38700f      Grade 5\n"
     ]
    }
   ],
   "source": [
    "result = result.rename(columns={0: 'damage_grade'})\n",
    "print(result[:10])"
   ]
  }
 ],
 "metadata": {
  "kernelspec": {
   "display_name": "Python 3",
   "language": "python",
   "name": "python3"
  },
  "language_info": {
   "codemirror_mode": {
    "name": "ipython",
    "version": 3
   },
   "file_extension": ".py",
   "mimetype": "text/x-python",
   "name": "python",
   "nbconvert_exporter": "python",
   "pygments_lexer": "ipython3",
   "version": "3.6.6"
  }
 },
 "nbformat": 4,
 "nbformat_minor": 2
}
